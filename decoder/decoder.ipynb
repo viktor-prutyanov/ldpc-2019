{
 "cells": [
  {
   "cell_type": "code",
   "execution_count": 5,
   "metadata": {},
   "outputs": [],
   "source": [
    "import numpy as np\n",
    "import scipy as sc"
   ]
  },
  {
   "cell_type": "code",
   "execution_count": 6,
   "metadata": {},
   "outputs": [],
   "source": [
    "def get_H0(q, g, n0):\n",
    "    r = np.random.randint(q, size=n0)\n",
    "    f = np.full((n0,), g)\n",
    "    return np.power(f, r) % q"
   ]
  },
  {
   "cell_type": "code",
   "execution_count": 7,
   "metadata": {},
   "outputs": [],
   "source": [
    "def get_H0(q, n0):\n",
    "    return np.random.randint(low=1, high=q, size=n0)"
   ]
  },
  {
   "cell_type": "code",
   "execution_count": 8,
   "metadata": {},
   "outputs": [
    {
     "data": {
      "text/plain": [
       "array([1, 1, 1, 1, 3, 3, 1, 4, 3, 1])"
      ]
     },
     "execution_count": 8,
     "metadata": {},
     "output_type": "execute_result"
    }
   ],
   "source": [
    "get_H0(5, 10)"
   ]
  },
  {
   "cell_type": "code",
   "execution_count": 9,
   "metadata": {},
   "outputs": [],
   "source": [
    "def get_Hb(q, b, n0):\n",
    "    H0 = get_H0(q, n0)\n",
    "    return np.kron(np.eye(b), H0)"
   ]
  },
  {
   "cell_type": "code",
   "execution_count": 10,
   "metadata": {},
   "outputs": [
    {
     "data": {
      "text/plain": [
       "array([[1., 1., 1., 4., 0., 0., 0., 0., 0., 0., 0., 0.],\n",
       "       [0., 0., 0., 0., 1., 1., 1., 4., 0., 0., 0., 0.],\n",
       "       [0., 0., 0., 0., 0., 0., 0., 0., 1., 1., 1., 4.]])"
      ]
     },
     "execution_count": 10,
     "metadata": {},
     "output_type": "execute_result"
    }
   ],
   "source": [
    "get_Hb(5, 3, 4)"
   ]
  },
  {
   "cell_type": "code",
   "execution_count": 64,
   "metadata": {},
   "outputs": [],
   "source": [
    "def phi(H_b, n0, b, q):\n",
    "    permutation = np.random.permutation(range(n0 * b))\n",
    "    H_b1 = H_b[:, permutation].copy()\n",
    "    for j in range(n0 * b):\n",
    "        H_b1[:, j] *= np.random.randint(low=1, high=q)\n",
    "        H_b1[:, j] %= q\n",
    "    return H_b1\n",
    "\n",
    "def get_H(q, n0, l, b):\n",
    "    H_b = get_Hb(q, b, n0)\n",
    "    Hs = [phi(H_b, n0, b, q) for i in range(l)]\n",
    "    H = np.vstack(tuple(Hs))\n",
    "    return H"
   ]
  },
  {
   "cell_type": "code",
   "execution_count": 69,
   "metadata": {},
   "outputs": [],
   "source": [
    "n0 = 5\n",
    "b = 2\n",
    "n = n0 * b\n",
    "q = 3\n",
    "l = 2"
   ]
  },
  {
   "cell_type": "code",
   "execution_count": 72,
   "metadata": {
    "scrolled": true
   },
   "outputs": [
    {
     "data": {
      "text/plain": [
       "(4, 10)"
      ]
     },
     "execution_count": 72,
     "metadata": {},
     "output_type": "execute_result"
    }
   ],
   "source": [
    "H = get_H(q, n0, l, b)\n",
    "H.shape"
   ]
  },
  {
   "cell_type": "code",
   "execution_count": 73,
   "metadata": {},
   "outputs": [
    {
     "name": "stdout",
     "output_type": "stream",
     "text": [
      "729\n"
     ]
    }
   ],
   "source": [
    "from itertools import product\n",
    "\n",
    "cs = np.array(list(product(range(q), repeat=n))).T\n",
    "\n",
    "ss = H @ cs % q\n",
    "\n",
    "js = []\n",
    "\n",
    "for j in range(ss.shape[1]):\n",
    "    if ss[:, j].max() == 0:\n",
    "        js.append(j)\n",
    "        \n",
    "print(len(js))"
   ]
  },
  {
   "cell_type": "code",
   "execution_count": 4,
   "metadata": {},
   "outputs": [],
   "source": [
    "def single_threshold_majority(r_seq, threshold, H, l):\n",
    "    \n",
    "    # Initialization\n",
    "    r = r_seq\n",
    "    r = (np.array(r)).reshape(-1, 1)\n",
    "    S = H @ r\n",
    "    b = 1\n",
    "    \n",
    "    # Algorithm\n",
    "    N = r.shape[0]\n",
    "    \n",
    "    lb = H.shape[0]\n",
    "    bn0 = H.shape[1]\n",
    "    \n",
    "    while (b == 1):\n",
    "        b = 0\n",
    "        \n",
    "        \n",
    "        for i in range (N):\n",
    "            #l_messages = []\n",
    "            l_messages = np.zeros(l)\n",
    "            \n",
    "            for j in range (l):\n",
    "                #l_messages.append(H[0 + j*lb][i])\n",
    "                \n",
    "                l_messages[j] = H[0 + j*lb][i]\n",
    "                \n",
    "            unique, counts = np.unique(a, return_counts = True)\n",
    "            A_dict = dict(zip(counts, unique))\n",
    "            key_max = max(A_dict.keys(), key=(lambda k: A_dict[k]))\n",
    "            v = key_max\n",
    "            a = A_dict[key_max]\n",
    "\n",
    "            z = l - np.count_nonzero(l_messages)\n",
    "\n",
    "            if (a - z > threshold):\n",
    "                r[i] = v\n",
    "                S = H @ r\n",
    "                b = 1\n",
    "    F = 1\n",
    "    c = r\n",
    "    \n",
    "    if (np.count_nonzero(S) == 0):\n",
    "        F = 0\n",
    "    \n",
    "    return (F, c)"
   ]
  },
  {
   "cell_type": "code",
   "execution_count": null,
   "metadata": {},
   "outputs": [],
   "source": []
  }
 ],
 "metadata": {
  "kernelspec": {
   "display_name": "Python 3",
   "language": "python",
   "name": "python3"
  },
  "language_info": {
   "codemirror_mode": {
    "name": "ipython",
    "version": 3
   },
   "file_extension": ".py",
   "mimetype": "text/x-python",
   "name": "python",
   "nbconvert_exporter": "python",
   "pygments_lexer": "ipython3",
   "version": "3.6.6"
  }
 },
 "nbformat": 4,
 "nbformat_minor": 2
}
