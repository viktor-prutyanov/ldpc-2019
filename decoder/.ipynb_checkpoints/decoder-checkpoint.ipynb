{
 "cells": [
  {
   "cell_type": "code",
   "execution_count": 1,
   "metadata": {},
   "outputs": [],
   "source": [
    "import numpy as np\n",
    "import scipy as sc"
   ]
  },
  {
   "cell_type": "code",
   "execution_count": 4,
   "metadata": {},
   "outputs": [],
   "source": [
    "def single_threshold_majority(r_seq, threshold, H, l):\n",
    "    \n",
    "    # Initialization\n",
    "    r = r_seq\n",
    "    r = (np.array(r)).reshape(-1, 1)\n",
    "    S = H @ r\n",
    "    b = 1\n",
    "    \n",
    "    # Algorithm\n",
    "    N = r.shape[0]\n",
    "    \n",
    "    lb = H.shape[0]\n",
    "    bn0 = H.shape[1]\n",
    "    \n",
    "    while (b == 1):\n",
    "        b = 0\n",
    "        \n",
    "        \n",
    "        for i in range (N):\n",
    "            #l_messages = []\n",
    "            l_messages = np.zeros(l)\n",
    "            \n",
    "            for j in range (l):\n",
    "                #l_messages.append(H[0 + j*lb][i])\n",
    "                \n",
    "                l_messages[j] = H[0 + j*lb][i]\n",
    "                \n",
    "            unique, counts = np.unique(a, return_counts = True)\n",
    "            A_dict = dict(zip(counts, unique))\n",
    "            key_max = max(A_dict.keys(), key=(lambda k: A_dict[k]))\n",
    "            v = key_max\n",
    "            a = A_dict[key_max]\n",
    "\n",
    "            z = l - np.count_nonzero(l_messages)\n",
    "\n",
    "            if (a - z > threshold):\n",
    "                r[i] = v\n",
    "                S = H @ r\n",
    "                b = 1\n",
    "    F = 1\n",
    "    c = r\n",
    "    \n",
    "    if (np.count_nonzero(S) == 0):\n",
    "        F = 0\n",
    "    \n",
    "    return (F, c)"
   ]
  },
  {
   "cell_type": "code",
   "execution_count": null,
   "metadata": {},
   "outputs": [],
   "source": []
  }
 ],
 "metadata": {
  "kernelspec": {
   "display_name": "Python 3",
   "language": "python",
   "name": "python3"
  },
  "language_info": {
   "codemirror_mode": {
    "name": "ipython",
    "version": 3
   },
   "file_extension": ".py",
   "mimetype": "text/x-python",
   "name": "python",
   "nbconvert_exporter": "python",
   "pygments_lexer": "ipython3",
   "version": "3.6.5"
  }
 },
 "nbformat": 4,
 "nbformat_minor": 2
}
